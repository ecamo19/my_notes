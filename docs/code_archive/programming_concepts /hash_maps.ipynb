{
 "cells": [
  {
   "cell_type": "markdown",
   "id": "dfe29d32-3669-46d1-9add-4cd3e3a301ec",
   "metadata": {},
   "source": [
    "Tabular data there is a relationship between the elements of a row. Each column corresponds to a different feature of the row. For example:"
   ]
  },
  {
   "cell_type": "markdown",
   "id": "c9ecdf56-040b-4cd6-91e6-3b4e467e1b63",
   "metadata": {},
   "source": [
    "Musician\t    |  State of Birth\n",
    "Miles Davis\t    |  Illinois\n",
    "John Coltrane\t|  North Carolina\n",
    "Duke Ellington\t|  Ohio\n",
    "Dizzy Gillespie\t|  South Carolina\n",
    "Thelonious Monk |  North Carolina\n",
    "\n",
    "This kind of table, with only two columns, represents a special relationship that mathematicians would call a __“map”__. This table maps states to state flowers, but many other relationships can be modeled with maps.\n",
    "\n",
    "When talking about a map we describe the inputs (jazz musicians, in this case) as the keys to the map. The output (here the state of origin) is said to be the value at a given key.\n",
    "\n",
    "In order for a relationship to be a __map__, every key that is used can only be the key to a __single value.__ \n"
   ]
  },
  {
   "cell_type": "markdown",
   "id": "5a8e8703-3d02-46b6-9967-b57c3bb4ebb6",
   "metadata": {},
   "source": [
    "For creating a hash map we use arrays bescause with these we can use the index for keep track of values in memory (index ==  key)."
   ]
  },
  {
   "cell_type": "markdown",
   "id": "1fc70880-27ee-4649-8c71-3cdc27ced55f",
   "metadata": {},
   "source": [
    "A __hashing function__ is a function that tranform a string (key) into a index.\n",
    "\n",
    "The most important aspect is that a hashing function returns an array index as output.\n",
    "\n",
    "The Hash map implementation needs to know the size of our array.\n",
    "\n",
    "In order for our hash map implementation to guarantee that it returns an index that fits into the underlying array, the hash function will first compute a value using some scoring metric: this is the hash value, hash code, or just the hash. Our hash map implementation then takes that hash value mod the size of the array. This guarantees that the value returned by the hash function can be used as an index into the array we’re using."
   ]
  },
  {
   "cell_type": "markdown",
   "id": "cab093ab-4d7b-4b46-8de2-8f545dab1222",
   "metadata": {},
   "source": [
    "# Hash Function example\n",
    "<img src=\"/>\n",
    "\n"
   ]
  },
  {
   "cell_type": "markdown",
   "id": "bec4fd42-f966-4243-b60c-7ba0640b488c",
   "metadata": {},
   "source": [
    "<img src= \"hash_map.png\" width=\"400\" height=\"400\">"
   ]
  },
  {
   "cell_type": "markdown",
   "id": "9d40b20d-e3f7-4dc4-99be-627035a46eb1",
   "metadata": {},
   "source": []
  },
  {
   "cell_type": "markdown",
   "id": "145eef6e-9d72-46fe-b060-dd515e26f7b6",
   "metadata": {},
   "source": []
  }
 ],
 "metadata": {
  "kernelspec": {
   "display_name": "Python 3 (ipykernel)",
   "language": "python",
   "name": "python3"
  },
  "language_info": {
   "codemirror_mode": {
    "name": "ipython",
    "version": 3
   },
   "file_extension": ".py",
   "mimetype": "text/x-python",
   "name": "python",
   "nbconvert_exporter": "python",
   "pygments_lexer": "ipython3",
   "version": "3.9.5"
  },
  "widgets": {
   "application/vnd.jupyter.widget-state+json": {
    "state": {},
    "version_major": 2,
    "version_minor": 0
   }
  }
 },
 "nbformat": 4,
 "nbformat_minor": 5
}
