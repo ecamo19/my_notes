{
 "cells": [
  {
   "cell_type": "markdown",
   "id": "055d0e5d-cbd5-4c90-bedd-34adffa6b187",
   "metadata": {},
   "source": [
    "# Dimension Reduction Methods\n",
    "\n",
    "When n << p and/or there is collinearity the variance will increase so OLS will not perform well, so other methods are need to overcome this. \n",
    "\n",
    "These methods control variance by transforming the predictors and then fit a least squares model using these transformed variables. With these methods overfitting is avoid by using a less flexible approach.\n",
    "\n",
    "If the correlation among predictors is high, then the ordinary least squares solution for multiple linear regression will have high variability and will become unstable OR  if n << p  least squares will be unable to ﬁnd a unique set of regression coeﬃcients that minimize the SSE\n",
    "\n",
    "\n",
    "## PCR\n",
    "Does not perform feature selection\n",
    "\n",
    "Sometimes dimension reduction via PCA does not necessarily produce new predictors that explain the response.\n",
    "\n",
    "+ The scores indicates if a value is below or above average. For example if the score < 0 in a PCA with two variables, then this indicates a city with below-average population size and below average ad spending. \n",
    "\n",
    "## PLS\n",
    "Kuhn: We recommend using PLS when there are correlated predictors and a linear regression-type solution is desired\n",
    "\n",
    "\n",
    "PLS identifies new features in a supervised way by making use of the response Y in order to identify new features that not only approximate the old features well, but also that are related to the response.\n",
    "\n",
    "PLS ﬁnds linear combinations of the predictors\n",
    "\n",
    "## What Goes Wrong in High Dimensions?\n",
    "\n",
    "Cp, AIC, and BIC approaches are not appropriate in the high-dimensional setting, because estimating $\\sigma^2$ is problematic.\n",
    "\n",
    "\n",
    "## PCR vrs PLS\n",
    "Since the directions in PLS are obtained by integrating the response variable, they explain more variation in Y than the principal components regression do. PLS also gives similar loadings to correlated variables, but variables that are correlated with the Y receive more weights compared with PCR. "
   ]
  }
 ],
 "metadata": {
  "kernelspec": {
   "display_name": "Python 3 (ipykernel)",
   "language": "python",
   "name": "python3"
  },
  "language_info": {
   "codemirror_mode": {
    "name": "ipython",
    "version": 3
   },
   "file_extension": ".py",
   "mimetype": "text/x-python",
   "name": "python",
   "nbconvert_exporter": "python",
   "pygments_lexer": "ipython3",
   "version": "3.9.5"
  },
  "widgets": {
   "application/vnd.jupyter.widget-state+json": {
    "state": {},
    "version_major": 2,
    "version_minor": 0
   }
  }
 },
 "nbformat": 4,
 "nbformat_minor": 5
}
