{
 "cells": [
  {
   "cell_type": "markdown",
   "id": "7235ebd4-b947-426a-b343-d8006efdc58c",
   "metadata": {},
   "source": [
    "# Bias-Variance trade-off\n",
    "\n",
    "In a perfect scenario, a statistical method should achieve low variance and low bias \n",
    "\n",
    "+ __Bias__ \n",
    "\n",
    "Bias is defined as the error introduced by approximating a real life problem (which in nature could have complicated relationships) by a simple model\n",
    "\n",
    "I associate bias as a model simplification. Like Fitting a linear model that follow a non-lineal trend \n",
    "\n",
    "+ __Variance__\n",
    "\n",
    "How much a function $f$ would change if we estimated it using a different train set? \n",
    "High variance indicate that if we change a data point in the data the function $f$ will change. \n",
    "\n",
    "I associate variance with overfit. Models with high variance have high flexibility because those model adjust following each data point.\n",
    "\n",
    "For example linear models have low variance but they could have high bias\n",
    "\n",
    "Highly correlated predictors can lead to collinearity issues and this can greatly increase the model variance.\n",
    "\n",
    "More complex models can have very high variance, which leads to over-ﬁtting. On the other hand, simple models tend not to over-ﬁt, but under-ﬁt if they are not ﬂexible enough to model the true relationship (thus high bias)."
   ]
  }
 ],
 "metadata": {
  "kernelspec": {
   "display_name": "Python 3 (ipykernel)",
   "language": "python",
   "name": "python3"
  },
  "language_info": {
   "codemirror_mode": {
    "name": "ipython",
    "version": 3
   },
   "file_extension": ".py",
   "mimetype": "text/x-python",
   "name": "python",
   "nbconvert_exporter": "python",
   "pygments_lexer": "ipython3",
   "version": "3.9.5"
  },
  "widgets": {
   "application/vnd.jupyter.widget-state+json": {
    "state": {},
    "version_major": 2,
    "version_minor": 0
   }
  }
 },
 "nbformat": 4,
 "nbformat_minor": 5
}
