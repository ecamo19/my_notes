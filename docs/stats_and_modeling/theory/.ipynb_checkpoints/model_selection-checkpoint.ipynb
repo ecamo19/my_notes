{
 "cells": [
  {
   "cell_type": "markdown",
   "id": "d19a7665-30c2-4208-8c82-060f57c07113",
   "metadata": {},
   "source": [
    "# Model selection\n",
    "\n",
    "## Best Subset Selection\n",
    "\n",
    "Fit a separate least squares regression for each possible combination of $p$ predictors. That is, fit all possible combinations and evaluate all the possibilities. \n",
    "\n",
    "The problem with this is that we have to evaluate $2^p$ models which is computationally expensive. \n",
    "\n",
    "## Forward Stepwise Selection\n",
    "\n",
    "This method starts with a null model with no predictors, then add a predictor, evaluate the model and repeats.\n",
    "\n",
    "Forward selection can be applied when n < p but only to $M_0$ ..... $M_{n - 1}$  since  n >= p will not yield a unique solution.\n",
    " \n",
    "## Backward Stepwise Selection\n",
    "This method begins with the full least squares model containing all p predictors. This works when n > p\n",
    "\n",
    "\n",
    "## Choosing the Optimal Model Cp , AIC, BIC, and Adjusted R^2\n",
    "\n",
    "+ Cp: Add a 2d$\\sigma^2$ penalty that increases as the number of predictor increase. Cp ~ AIC\n",
    "\n",
    "+ BIC: Usually BIC chooses a model with less predictors that the one chosen by Cp \n",
    "\n",
    "## One-standard-error rule. \n",
    "\n",
    "We first calculate the standard error of the estimated test MSE for each model size, and then select the smallest model for which the estimated test error is within one standard error of the lowest point on the curve.\n",
    "\n",
    "\n",
    "## Do not use R^2 or RSS for selecting a model\n",
    "\n",
    "The training error will decrease as more variables are included in the model, but the test error may not. Therefore, training set RSS and training set R^2  cannot be used to select from among a set of models with diﬀerent numbers of variables. $R^2$ increases with the number of predictors while RSS decrease.\n",
    "\n"
   ]
  }
 ],
 "metadata": {
  "kernelspec": {
   "display_name": "Python 3 (ipykernel)",
   "language": "python",
   "name": "python3"
  },
  "language_info": {
   "codemirror_mode": {
    "name": "ipython",
    "version": 3
   },
   "file_extension": ".py",
   "mimetype": "text/x-python",
   "name": "python",
   "nbconvert_exporter": "python",
   "pygments_lexer": "ipython3",
   "version": "3.9.5"
  },
  "widgets": {
   "application/vnd.jupyter.widget-state+json": {
    "state": {},
    "version_major": 2,
    "version_minor": 0
   }
  }
 },
 "nbformat": 4,
 "nbformat_minor": 5
}
