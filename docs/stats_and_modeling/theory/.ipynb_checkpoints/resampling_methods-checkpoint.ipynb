{
 "cells": [
  {
   "cell_type": "markdown",
   "id": "8d40db05-a2ce-48ad-ac24-e5f0387a7316",
   "metadata": {},
   "source": [
    "# Resampling Methods\n",
    "\n",
    "Resampling methods are used in the absence of very large designated test sets that can be used to directly estimate test error rates  \n",
    "\n",
    "+ __Validation Set Approach__ \n",
    "\n",
    "Good when n is large. This method consist in dividing randomly the data set into Training and Test (Validation) data sets\n",
    "\n",
    "Drawbacks:\n",
    "\n",
    "1) High Variable, depends on the observations chosen \n",
    "2) Not all the data is included in training the model\n",
    "\n",
    "+ __Leave-one-out cross validation (LOOCV)__\n",
    "\n",
    "In this method a single pair observations ($x_1$,$y_1$) are left out for validation and the rest of the data is used for training being repeated n times\n",
    "\n",
    "Drawbacks:\n",
    "\n",
    "1) Expensive to implement (time consuming, the validation is done in n observations) \n",
    "\n",
    "+ __k-fold Cross Validation__\n",
    "\n",
    "Randomly divide the whole data set in k groups of equal size. The first fold is used as validation set and the others are used as training sets. This procedure is repeated k times, each time, a different fold is treated as validation test. \n",
    "\n",
    "For example if k = 10 then the data set is divided into 10 folds, the first one will be used as validation set and then the statistical method (i.e. linear model) is fitted on each one of the other 9 folds. This is repeated until each one of the folds has being used as validation sets.  \n"
   ]
  }
 ],
 "metadata": {
  "kernelspec": {
   "display_name": "Python 3 (ipykernel)",
   "language": "python",
   "name": "python3"
  },
  "language_info": {
   "codemirror_mode": {
    "name": "ipython",
    "version": 3
   },
   "file_extension": ".py",
   "mimetype": "text/x-python",
   "name": "python",
   "nbconvert_exporter": "python",
   "pygments_lexer": "ipython3",
   "version": "3.9.5"
  },
  "widgets": {
   "application/vnd.jupyter.widget-state+json": {
    "state": {},
    "version_major": 2,
    "version_minor": 0
   }
  }
 },
 "nbformat": 4,
 "nbformat_minor": 5
}
