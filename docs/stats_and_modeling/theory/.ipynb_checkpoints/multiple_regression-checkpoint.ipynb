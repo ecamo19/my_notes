{
 "cells": [
  {
   "cell_type": "markdown",
   "id": "655c6035-cac3-4c32-ab44-e45acddf1bc9",
   "metadata": {},
   "source": [
    "# Multiple Regression\n",
    "\n",
    "The interpretability of coeﬃcients makes it very attractive as a modeling tool. At the same time, the characteristics that make it interpretable also make it prone to potentially fatal ﬂaws. \n",
    "\n",
    "A unique inverse of this matrix exists when (1) no predictor can be determined from a combination of one or more of the other predictors and (2) the number of samples is greater than the number of predictors. If the data fall under either of these conditions, then a unique set of regression co-\n",
    "eﬃcients does not exist.\n",
    "\n",
    "To diagnose multicollinearity in the context of linear regression, the variance inﬂation factor can be used.\n",
    "\n",
    "Another drawback of multiple linear regression is that its solution is linear in the parameters.\n",
    "One visual clue to understanding if the relationship between predictors and the response is not linear is to examine the basic diagnostic plots. Curvature in the predicted-versus-residual plot is a primary indicator that the underlying relationship is not linear.\n",
    "\n",
    "A third notable problem with multiple linear regression is that it is prone to chasing observations that are away from the overall trend of the majority of the data.Recall that linear regression seeks to ﬁnd the parameter estimates that minimize SSE; hence, observations that are far from the trend of the majority of the data will have exponentially large residuals.\n",
    "\n",
    "There are no tuning parameters for multiple linear regression. This fact, however, does not impugn the practitioner from using rigorous model validation tools, especially when using this model for prediction. In fact, we must use the same training and validation techniques described in Chap. 4 to understand the predictive ability of this model on data which the model has\n",
    "not seen."
   ]
  }
 ],
 "metadata": {
  "kernelspec": {
   "display_name": "Python 3 (ipykernel)",
   "language": "python",
   "name": "python3"
  },
  "language_info": {
   "codemirror_mode": {
    "name": "ipython",
    "version": 3
   },
   "file_extension": ".py",
   "mimetype": "text/x-python",
   "name": "python",
   "nbconvert_exporter": "python",
   "pygments_lexer": "ipython3",
   "version": "3.9.5"
  },
  "widgets": {
   "application/vnd.jupyter.widget-state+json": {
    "state": {},
    "version_major": 2,
    "version_minor": 0
   }
  }
 },
 "nbformat": 4,
 "nbformat_minor": 5
}
