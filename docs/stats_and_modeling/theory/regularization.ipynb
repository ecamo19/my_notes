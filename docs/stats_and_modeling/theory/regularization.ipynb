{
 "cells": [
  {
   "cell_type": "markdown",
   "id": "7162f9eb-f19b-4deb-a5d7-5719348a9f76",
   "metadata": {},
   "source": [
    "# Penalized Models\n",
    "\n",
    "When n << p and/or there is collinearity the variance will increase so OLS will not perform well, so other methods are need to overcome this. \n",
    "\n",
    "Penalized methods work by controlling variance (less flexible methods) by shrinking coefs towards zero or exactly zero. With these methods overfitting is avoid by using a less flexible approach.\n",
    "\n",
    "By sacriﬁcing some bias, we can often reduce the variance enough to make the overall MSE lower than unbiased models.\n",
    "\n",
    "## Ridge Regression\n",
    "\n",
    "Ridge Regression will include all p predictors in the final model. This method just shrink coefs towards zero.\n",
    "\n",
    "Ridge regression (Hoerl 1970) adds a penalty on the sum of the squared regression parameters (l2)\n",
    "\n",
    "$\\lambda$ = Penalty term (l2), the larger the $\\lambda$ is the smallest (towards zero) the coefs are.\n",
    "\n",
    "Ridge regression’s advantage over least squares is rooted in the bias-variance trade-oﬀ. As $\\lambda$ increases, the flexibility of the ridge regression fit decreases, leading to decreased variance but increased bias. At some point MSE will decrease.\n",
    "\n",
    "Ridge regression works best in situations where the least squares estimates have high variance.\n",
    "\n",
    "## Lasso Regression\n",
    "\n",
    "The lasso shrinks the coefs to zero which can be used for variable selection\n",
    "\n",
    "__Differences between lasso and ridge__\n",
    "\n",
    "+ Penalty term\n",
    "+ Lasso performs feature selection\n",
    "+ Lasso will perform better in a scenario where a few p have a high coefs and the others are close to zero\n",
    "+ Ridge will perform better when there are many predictors with with coefs of the same  ~size"
   ]
  }
 ],
 "metadata": {
  "kernelspec": {
   "display_name": "Python 3 (ipykernel)",
   "language": "python",
   "name": "python3"
  },
  "language_info": {
   "codemirror_mode": {
    "name": "ipython",
    "version": 3
   },
   "file_extension": ".py",
   "mimetype": "text/x-python",
   "name": "python",
   "nbconvert_exporter": "python",
   "pygments_lexer": "ipython3",
   "version": "3.9.5"
  },
  "widgets": {
   "application/vnd.jupyter.widget-state+json": {
    "state": {},
    "version_major": 2,
    "version_minor": 0
   }
  }
 },
 "nbformat": 4,
 "nbformat_minor": 5
}
